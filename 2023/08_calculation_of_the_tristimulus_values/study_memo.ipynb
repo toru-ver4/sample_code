{
 "cells": [
  {
   "cell_type": "markdown",
   "metadata": {},
   "source": [
    "# 目的\n",
    "\n",
    "スペクトルから3刺激値(RGB)を計算する方法への理解を深める。\n",
    "今のところ以下を明確にしたい。\n",
    "\n",
    "* 10 nm を超える波長ステップのデータの補間？というか計算方法\n",
    "* 波長範囲が短い (400 nm ～しかないとか)データの補間？というか計算方法\n",
    "* 各種補間アルゴリズムの詳細理解および計算結果の比較"
   ]
  },
  {
   "cell_type": "markdown",
   "metadata": {},
   "source": [
    "## とりあえず ASTM E308 を読む。\n",
    "\n",
    "### この論文は何？\n",
    "\n",
    "tristimulus weighting factors をキレイにまとめたもの？\n",
    "\n",
    "### ASTM って何さ？\n",
    "\n",
    "**American Society for Testing and Materials** の略っぽい\n",
    "\n",
    "### 用語集（の中で分からなかった物）\n",
    "\n",
    "* opponent-color sacles\n",
    "  * red-green, blue-yellow みたいな反対色を + と - で表すやつ\n",
    "\n",
    "* tristimulus weighting factors\n",
    "  * $S{\\bar{x}}$, $S{\\bar{y}}$, $S{\\bar{z}}$\n",
    "  * products of the spectral power $S$ of an illuminant and color-matching functions $\\bar{x}$, $\\bar{y}$, $\\bar{z}$\n",
    "\n",
    "* Bandpass Correction\n",
    "\n",
    "### 4. Summary of Practice\n",
    "\n",
    "* 4.1 Selection of Parameters\n",
    "  * 4.1.1 Observer: CIE 1931 / CIE 1964 のどちらか選ぶ\n",
    "  * 4.1.2 Illuminant: CIE標準光源のいずれかを選ぶ\n",
    "  * 4.1.3 Measurement Interval: 1-, 5-, 10-, 20-mm の中から選ぶ。ピッタリが無ければ一番近いやつ\n",
    "* 4.2 Procedures\n",
    "  * 1-, 5-mm は 7.2 を参照\n",
    "  * 4.3 10-, 20-m は Table 5 から tristimulus weighting factors を選ぶが、計算に使用する spectral data は bandpass dependance に対して 　corrected されているべき\n",
    "    * bandpass dependance 対する correct がわからん（バンドパス依存性を補正？）\n",
    "      * E2729 を読む必要がある気がしてきた（$50）\n",
    "* 4.4 フローチャートが Fig.2 にある\n",
    "* 4.5 Calculations: 計算結果の $XYZ$ は tristimulus weighting factors と reflectance factors から求められる\n",
    "* 4.6 計算した Tristimulus values は均等色空間の CIELAB などに変換しても良い\n",
    "\n",
    "### 5. Significance and Use\n",
    "\n",
    "* 5.1 CIE XYZ は均等色空間じゃないぞ\n",
    "* 5.2 \n"
   ]
  }
 ],
 "metadata": {
  "language_info": {
   "name": "python"
  },
  "orig_nbformat": 4
 },
 "nbformat": 4,
 "nbformat_minor": 2
}
