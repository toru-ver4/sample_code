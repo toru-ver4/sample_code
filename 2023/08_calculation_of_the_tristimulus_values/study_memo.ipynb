{
 "cells": [
  {
   "cell_type": "markdown",
   "metadata": {},
   "source": [
    "# 目的\n",
    "\n",
    "スペクトルから3刺激値(RGB)を計算する方法への理解を深める。\n",
    "今のところ以下を明確にしたい。\n",
    "\n",
    "* 10 nm を超える波長ステップのデータの補間？というか計算方法\n",
    "* 波長範囲が短い (400 nm ～しかないとか)データの補間？というか計算方法\n",
    "* 各種補間アルゴリズムの詳細理解および計算結果の比較"
   ]
  }
 ],
 "metadata": {
  "language_info": {
   "name": "python"
  },
  "orig_nbformat": 4
 },
 "nbformat": 4,
 "nbformat_minor": 2
}
