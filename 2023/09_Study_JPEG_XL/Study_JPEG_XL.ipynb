{
 "cells": [
  {
   "cell_type": "markdown",
   "metadata": {},
   "source": [
    "## 目的\n",
    "\n",
    "* iPad or iPhone の Safari 17 で JPEG XL を HDRフォーマットで表示する\n",
    "  * 無理でもせめてファイルは作成して HDR to SDR 変換が適用された状態で表示する\n",
    "* 以前の .mp4 の調査と同じく JPEG XL における HDRメタデータの種類などについてまとめる\n",
    "* Safari 17 の実装というか Apple側の HDRの考え方（2023年版を振り返っておく）"
   ]
  },
  {
   "cell_type": "markdown",
   "metadata": {},
   "source": [
    "## JPEG XL Image Format に関する調査\n",
    "\n",
    "#### 資料\n",
    "\n",
    "* [米国議会図書館のまとめ](https://www.loc.gov/preservation/digital/formats/fdd/fdd000538.shtml)\n",
    "* [国際標準 ISO/IEC 18181-2 Part2](https://www.iso.org/standard/80617.html)\n",
    "* [GitHub での解説 (Color Management)](https://github.com/libjxl/libjxl/blob/main/doc/color_management.md)\n",
    "* [Github での解説 (JPEG XL Format Overview)](https://github.com/libjxl/libjxl/blob/main/doc/format_overview.md)\n",
    "\n",
    "#### metadata と image data について\n",
    "\n",
    "JPEG XL においては metadata と image data の考え方が従来とは異なっている。正しい画像表示に必要な情報は metadata ではなく image data に含まれる。ちなみに codestream は圧縮後、image data は圧縮前っぽい。\n",
    "\n",
    "> JPEG XL makes a clear separation between metadata and image data. Everything that is needed to correctly display an image is considered to be image data, and is part of the core codestream. This includes elements that have traditionally been considered 'metadata', such as ICC profiles and Exif orientation.\n",
    "\n",
    "ちなみに metadata は copyright nitices, GPS coordinates, camera settings などが該当する。\n",
    "\n",
    "#### metadata の意味\n",
    "\n",
    "##### `intensity_target`\n",
    "\n",
    "* intensity level の上限\n",
    "* 単位は nits っぽい\n",
    "* HDR だとデフォで 10000 nits が入るっぽい？\n",
    "\n",
    "##### `min_nits`\n",
    "\n",
    "* `intensity_target` の下限版\n",
    "* これよりも下の情報は失われる可能性がある\n",
    "* tone mapping 適用時は [`min_nits`, `intensity_target`] がモニターのレンジにマッピングされる\n",
    "\n",
    "##### `relative_to_max_display`\n",
    "\n",
    "* \n"
   ]
  }
 ],
 "metadata": {
  "language_info": {
   "name": "python"
  },
  "orig_nbformat": 4
 },
 "nbformat": 4,
 "nbformat_minor": 2
}
