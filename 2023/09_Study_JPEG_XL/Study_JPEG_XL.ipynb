{
 "cells": [
  {
   "cell_type": "markdown",
   "metadata": {},
   "source": [
    "## 目的\n",
    "\n",
    "* iPad or iPhone の Safari 17 で JPEG XL を HDRフォーマットで表示する\n",
    "  * 無理でもせめてファイルは作成して HDR to SDR 変換が適用された状態で表示する\n",
    "* 以前の .mp4 の調査と同じく JPEG XL における HDRメタデータの種類などについてまとめる\n",
    "* Safari 17 の実装というか Apple側の HDRの考え方（2023年版を振り返っておく）"
   ]
  },
  {
   "cell_type": "markdown",
   "metadata": {},
   "source": [
    "## JPEG XL Image Format に関する調査\n",
    "\n",
    "#### 資料\n",
    "\n",
    "* [米国議会図書館のまとめ](https://www.loc.gov/preservation/digital/formats/fdd/fdd000538.shtml)\n",
    "* [国際標準 ISO/IEC 18181-2 Part2](https://www.iso.org/standard/80617.html)\n",
    "* [Github での解説](https://github.com/libjxl/libjxl/blob/main/doc/format_overview.md)\n",
    "\n",
    "#### 理解した点\n",
    "\n",
    "JPEG XL においては metadata と image data の考え方が従来とは異なっている。正しい画像表示に必要な情報は metadata ではなく image data に含まれる。ちなみに codestream は圧縮後、image data は圧縮前っぽい。\n",
    "\n",
    "> JPEG XL makes a clear separation between metadata and image data. Everything that is needed to correctly display an image is considered to be image data, and is part of the core codestream. This includes elements that have traditionally been considered 'metadata', such as ICC profiles and Exif orientation."
   ]
  }
 ],
 "metadata": {
  "language_info": {
   "name": "python"
  },
  "orig_nbformat": 4
 },
 "nbformat": 4,
 "nbformat_minor": 2
}
