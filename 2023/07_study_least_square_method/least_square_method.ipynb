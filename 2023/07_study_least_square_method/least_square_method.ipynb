{
 "cells": [
  {
   "cell_type": "markdown",
   "metadata": {},
   "source": [
    "## はじめに\n",
    "\n",
    "最小二乗法は色々なところで使われているが、自分の興味がある範囲だとカメラの XYZ to RGB 変換 Matrix 生成で使われる。\n",
    "2021のゴールデンウィークにお遊びで作ったことがあるが、最小二乗法の勉強はかなり適当であった。\n",
    "\n",
    "なので、今一度ちゃんと勉強したいと思って本を買った。\n",
    "読むだけだと身につかないので、本を読んで気になった点を書き残したり\n",
    "簡単なサンプルコードを書いたりして理解を深めることをしていきたい。"
   ]
  },
  {
   "cell_type": "code",
   "execution_count": 20,
   "metadata": {},
   "outputs": [
    {
     "name": "stdout",
     "output_type": "stream",
     "text": [
      "[4]\n"
     ]
    }
   ],
   "source": [
    "# figure 1.3\n",
    "import sympy\n",
    "x = sympy.Symbol('x')\n",
    "\n",
    "# set equation\n",
    "q = (0 - x)**2 + (2 - x)**2 + (3-x)**2 + (6-x)**2 + (9-x)**2\n",
    "\n",
    "# Differentiate the equation to find the minimum value.\n",
    "q_diff = sympy.diff(q)\n",
    "q_solve = sympy.solve(q_diff)print(q_solve)"
   ]
  }
 ],
 "metadata": {
  "kernelspec": {
   "display_name": "env",
   "language": "python",
   "name": "python3"
  },
  "language_info": {
   "codemirror_mode": {
    "name": "ipython",
    "version": 3
   },
   "file_extension": ".py",
   "mimetype": "text/x-python",
   "name": "python",
   "nbconvert_exporter": "python",
   "pygments_lexer": "ipython3",
   "version": "3.10.6"
  },
  "orig_nbformat": 4
 },
 "nbformat": 4,
 "nbformat_minor": 2
}
