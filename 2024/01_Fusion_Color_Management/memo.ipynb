{
 "cells": [
  {
   "cell_type": "markdown",
   "metadata": {},
   "source": [
    "# Fusion のカラマネ調査\n",
    "\n",
    "## マニュアル読解\n",
    "\n",
    "### RCM を使わない場合の挙動\n",
    "\n",
    "* 基本は自分でノードを用意して Linear化、Non-linear化っぽい\n",
    "* 利用できるノードは以下の4つ\n",
    "  * CineonLog ノード\n",
    "  * Gamut ノード\n",
    "  * Media In ノード (ちなみに Meida out ノードは設定しなくていいの？)\n",
    "  * FileLUT node (LUT なので誤差は出る)\n",
    "  * ColorSpaceTransform\n",
    "\n",
    "\n",
    "\n",
    "\n",
    "## 参考資料\n",
    "\n",
    "* ColorSpaceTransform が 18.6 から追加を示す情報\n",
    "  * DaVinci Resolve 18.6 - New Fusion Features\n",
    "  * https://youtu.be/TFgguI0rIEU?si=yU1JSAJup7IoTPar\n",
    "\n"
   ]
  }
 ],
 "metadata": {
  "language_info": {
   "name": "python"
  }
 },
 "nbformat": 4,
 "nbformat_minor": 2
}
