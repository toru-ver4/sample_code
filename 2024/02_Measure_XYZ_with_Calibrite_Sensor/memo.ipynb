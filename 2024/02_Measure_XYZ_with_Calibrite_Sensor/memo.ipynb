{
 "cells": [
  {
   "cell_type": "markdown",
   "metadata": {},
   "source": [
    "# メモ\n",
    "\n",
    "## Calibrite Display Pro HL についてのメモ\n",
    "\n",
    "### EDR ファイルのインストール場所\n",
    "\n",
    "* Windows\n",
    "  * C:\\Program Files\\calibrite PROFILER\\resources\\app.asar.unpacked\\node_modules\\@calibrite-org\\i1displayjs\\build.win\\calibrations\n",
    "* macOS\n",
    "  * /Applications/calibrite PROFILER.app/Contents/Resources/app.asar.unpacked/node_modules/@calibrite-org/i1displayjs/build.darwin/calibrations\n",
    "  \n",
    "\n",
    "## ArgyllCMS のコマンドメモ\n",
    "### ccxxmake\n",
    "\n",
    "* [.ccmx](https://www.argyllcms.com/doc/File_Formats.html#.ccmx) (Colorimeter Correction Matrix) または [.ccss](https://www.argyllcms.com/doc/File_Formats.html#.ccss) (Colorimeter Calibration Spectral Set) を作る\n",
    "* ただし、要 Spectrometer\n",
    "\n",
    "### oeminst\n",
    "\n",
    "* calibrator の manufactures が提供している独自形式のファイルを ArgyllCMS が扱える .ccss に変換する\n",
    "* `-c` オプションを使えば .ccss ファイルは同じフォルダに保存される\n",
    "  * 逆言うと `-c` をつけないとどこかに勝手にインストールされるらしい\n",
    "\n",
    "### ccxxmake や oeminst でのファイルの生成先\n",
    "\n",
    "* Windows\n",
    "  * C:/Users/toruv/AppData/Roaming/ArgyllCMS\n",
    "  * %USERPROFILE%/AppData/Roaming/ArgyllCMS\n",
    "* macOS\n",
    "  * /Users/toru/Library/Application Support/ArgyllCMS\n",
    "  * ~/Library/Application Support/ArgyllCMS\n"
   ]
  }
 ],
 "metadata": {
  "kernelspec": {
   "display_name": "Python 3",
   "language": "python",
   "name": "python3"
  },
  "language_info": {
   "name": "python",
   "version": "3.11.7"
  }
 },
 "nbformat": 4,
 "nbformat_minor": 2
}
